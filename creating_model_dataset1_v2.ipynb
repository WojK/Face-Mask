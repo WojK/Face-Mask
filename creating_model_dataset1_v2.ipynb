{
 "cells": [
  {
   "cell_type": "code",
   "execution_count": 3,
   "id": "05f3bf6d",
   "metadata": {},
   "outputs": [],
   "source": [
    "import tensorflow as tf\n",
    "from tensorflow import keras\n",
    "import keras\n",
    "from matplotlib import pyplot as plt\n",
    "import numpy as np\n",
    "from tensorflow.keras import layers\n",
    "from tensorflow.keras.layers import MaxPool2D\n",
    "from tensorflow.keras.layers import AveragePooling2D\n",
    "from tensorflow.keras.layers import MaxPooling2D\n",
    "from tensorflow.keras.layers import Conv2D\n",
    "from tensorflow.keras.layers import Dropout\n",
    "from tensorflow.keras.layers import Flatten\n",
    "from tensorflow.keras.layers import Dense\n",
    "import seaborn as sns\n",
    "from tensorflow.keras.preprocessing.image import ImageDataGenerator\n",
    "from keras.callbacks import EarlyStopping\n",
    "from keras.callbacks import ModelCheckpoint\n",
    "import glob"
   ]
  },
  {
   "cell_type": "code",
   "execution_count": 12,
   "id": "7d70de87",
   "metadata": {},
   "outputs": [],
   "source": [
    "def plot(history):\n",
    "    plt.figure(figsize=(18.5, 7.5))\n",
    " \n",
    "    plt.subplot(1,2,1)\n",
    "    sns.lineplot(x=history.epoch, y=history.history['loss'],  label='Train Loss', color='green',)\n",
    "    sns.lineplot(x=history.epoch, y=history.history['val_loss'],  label='Val Loss', color='red',)\n",
    "    sns.lineplot(x=history.epoch, y=history.history['accuracy'], label='Train Accuracy', color='blue')\n",
    "    sns.lineplot(x=history.epoch, y=history.history['val_accuracy'], label='Val Accuracy', color='purple')\n",
    "    plt.title('Loss train \\ val, Accurancy train \\ val')\n",
    "    plt.legend(loc='best')\n",
    " \n",
    "    plt.subplot(1,2,2)\n",
    "    sns.lineplot(x=history.epoch, y=history.history['accuracy'], label='Train Accuracy', color='blue')\n",
    "    sns.lineplot(x=history.epoch, y=history.history['val_accuracy'], label='Val Accuracy', color='purple')\n",
    "    plt.title('Accuracy train \\ val')\n",
    "    plt.legend(loc='best')\n",
    " \n",
    "    plt.show()"
   ]
  },
  {
   "cell_type": "code",
   "execution_count": 5,
   "id": "5812bf2e",
   "metadata": {},
   "outputs": [],
   "source": [
    "path = \"C:/Users/wojte/Desktop/IV/Projekt_indywidualny/Face_Mask_1_dataset_split/\""
   ]
  },
  {
   "cell_type": "code",
   "execution_count": 6,
   "id": "52128dd8",
   "metadata": {},
   "outputs": [
    {
     "name": "stdout",
     "output_type": "stream",
     "text": [
      "Found 3853 images belonging to 3 classes.\n",
      "Found 1100 images belonging to 3 classes.\n"
     ]
    }
   ],
   "source": [
    "imggen = ImageDataGenerator(rescale=1./255)\n",
    "\n",
    "# load train data\n",
    "train = imggen.flow_from_directory( path + 'train/', class_mode=\"categorical\", batch_size=16, target_size=(64, 64), color_mode='grayscale')\n",
    "# load val data\n",
    "val = imggen.flow_from_directory(path + 'val/', class_mode=\"categorical\", batch_size=16, target_size=(64, 64), color_mode='grayscale')"
   ]
  },
  {
   "cell_type": "code",
   "execution_count": 7,
   "id": "be469dcc",
   "metadata": {},
   "outputs": [
    {
     "name": "stdout",
     "output_type": "stream",
     "text": [
      "(16, 64, 64, 1)\n",
      "(16, 3)\n"
     ]
    },
    {
     "data": {
      "text/plain": [
       "{'fully_covered': 0, 'not_covered': 1, 'partially_covered': 2}"
      ]
     },
     "execution_count": 7,
     "metadata": {},
     "output_type": "execute_result"
    }
   ],
   "source": [
    "for data_batch, labels in train:\n",
    "    print(data_batch.shape)\n",
    "    print(labels.shape)\n",
    "    break\n",
    "    \n",
    "class_indices = train.class_indices\n",
    "class_indices"
   ]
  },
  {
   "cell_type": "code",
   "execution_count": 8,
   "id": "3a36e370",
   "metadata": {},
   "outputs": [
    {
     "name": "stdout",
     "output_type": "stream",
     "text": [
      "Model: \"sequential\"\n",
      "_________________________________________________________________\n",
      " Layer (type)                Output Shape              Param #   \n",
      "=================================================================\n",
      " conv2d (Conv2D)             (None, 64, 64, 32)        320       \n",
      "                                                                 \n",
      " conv2d_1 (Conv2D)           (None, 64, 64, 32)        9248      \n",
      "                                                                 \n",
      " average_pooling2d (AverageP  (None, 32, 32, 32)       0         \n",
      " ooling2D)                                                       \n",
      "                                                                 \n",
      " conv2d_2 (Conv2D)           (None, 32, 32, 64)        18496     \n",
      "                                                                 \n",
      " conv2d_3 (Conv2D)           (None, 32, 32, 64)        36928     \n",
      "                                                                 \n",
      " average_pooling2d_1 (Averag  (None, 8, 8, 64)         0         \n",
      " ePooling2D)                                                     \n",
      "                                                                 \n",
      " conv2d_4 (Conv2D)           (None, 8, 8, 128)         73856     \n",
      "                                                                 \n",
      " average_pooling2d_2 (Averag  (None, 2, 2, 128)        0         \n",
      " ePooling2D)                                                     \n",
      "                                                                 \n",
      " flatten (Flatten)           (None, 512)               0         \n",
      "                                                                 \n",
      " dense (Dense)               (None, 1024)              525312    \n",
      "                                                                 \n",
      " dropout (Dropout)           (None, 1024)              0         \n",
      "                                                                 \n",
      " dense_1 (Dense)             (None, 3)                 3075      \n",
      "                                                                 \n",
      "=================================================================\n",
      "Total params: 667,235\n",
      "Trainable params: 667,235\n",
      "Non-trainable params: 0\n",
      "_________________________________________________________________\n"
     ]
    }
   ],
   "source": [
    "model = keras.models.Sequential()\n",
    "\n",
    "model.add(Conv2D(32, kernel_size=(3, 3), activation='relu', padding='same', input_shape=(64, 64, 1)))\n",
    "model.add(Conv2D(32, kernel_size=(3, 3), activation='relu', padding='same'))\n",
    "model.add(AveragePooling2D(pool_size=(2, 2)))\n",
    "\n",
    "model.add(Conv2D(64, kernel_size=(3, 3), activation='relu', padding='same'))\n",
    "model.add(Conv2D(64, kernel_size=(3, 3), activation='relu', padding='same'))\n",
    "model.add(AveragePooling2D(pool_size=(4, 4)))\n",
    " \n",
    "model.add(Conv2D(128, kernel_size=(3, 3), activation='relu', padding='same'))\n",
    "model.add(AveragePooling2D(pool_size=(4, 4)))    \n",
    "    \n",
    "model.add(Flatten())\n",
    "model.add(Dense(1024, activation='relu'))\n",
    "model.add(Dropout(0.33))\n",
    "model.add(Dense(3, activation = 'softmax'))\n",
    "\n",
    "model.compile(loss='categorical_crossentropy', metrics=['accuracy'], optimizer='adam')\n",
    "model.summary()"
   ]
  },
  {
   "cell_type": "code",
   "execution_count": 9,
   "id": "08e2ea6b",
   "metadata": {},
   "outputs": [],
   "source": [
    "filepath_callbacks = 'callbacks/epoch-{epoch:02d}-{val_loss:.2f}.hdf5'"
   ]
  },
  {
   "cell_type": "code",
   "execution_count": 10,
   "id": "3ef08cc6",
   "metadata": {},
   "outputs": [],
   "source": [
    "keras_callbacks   = [\n",
    "    EarlyStopping(monitor='val_accuracy', patience=10, mode='max'),\n",
    "    ModelCheckpoint(filepath_callbacks, monitor='val_loss', save_best_only=True, mode='min')]"
   ]
  },
  {
   "cell_type": "code",
   "execution_count": 11,
   "id": "6f57a367",
   "metadata": {},
   "outputs": [
    {
     "name": "stdout",
     "output_type": "stream",
     "text": [
      "Epoch 1/25\n",
      "241/241 [==============================] - 13s 22ms/step - loss: 0.7141 - accuracy: 0.6930 - val_loss: 0.5402 - val_accuracy: 0.7964\n",
      "Epoch 2/25\n",
      "241/241 [==============================] - 3s 14ms/step - loss: 0.5066 - accuracy: 0.7926 - val_loss: 0.5098 - val_accuracy: 0.7900\n",
      "Epoch 3/25\n",
      "241/241 [==============================] - 3s 14ms/step - loss: 0.3485 - accuracy: 0.8606 - val_loss: 0.3695 - val_accuracy: 0.8673\n",
      "Epoch 4/25\n",
      "241/241 [==============================] - 3s 14ms/step - loss: 0.2190 - accuracy: 0.9240 - val_loss: 0.1721 - val_accuracy: 0.9482\n",
      "Epoch 5/25\n",
      "241/241 [==============================] - 3s 14ms/step - loss: 0.1581 - accuracy: 0.9468 - val_loss: 0.1164 - val_accuracy: 0.9609\n",
      "Epoch 6/25\n",
      "241/241 [==============================] - 3s 14ms/step - loss: 0.1135 - accuracy: 0.9634 - val_loss: 0.1086 - val_accuracy: 0.9673\n",
      "Epoch 7/25\n",
      "241/241 [==============================] - 3s 14ms/step - loss: 0.0838 - accuracy: 0.9746 - val_loss: 0.1280 - val_accuracy: 0.9609\n",
      "Epoch 8/25\n",
      "241/241 [==============================] - 3s 13ms/step - loss: 0.0807 - accuracy: 0.9738 - val_loss: 0.1020 - val_accuracy: 0.9709\n",
      "Epoch 9/25\n",
      "241/241 [==============================] - 3s 14ms/step - loss: 0.0678 - accuracy: 0.9769 - val_loss: 0.0923 - val_accuracy: 0.9727\n",
      "Epoch 10/25\n",
      "241/241 [==============================] - 3s 14ms/step - loss: 0.0390 - accuracy: 0.9865 - val_loss: 0.1329 - val_accuracy: 0.9645\n",
      "Epoch 11/25\n",
      "241/241 [==============================] - 3s 14ms/step - loss: 0.0384 - accuracy: 0.9881 - val_loss: 0.0720 - val_accuracy: 0.9800\n",
      "Epoch 12/25\n",
      "241/241 [==============================] - 3s 14ms/step - loss: 0.0330 - accuracy: 0.9886 - val_loss: 0.1119 - val_accuracy: 0.9718\n",
      "Epoch 13/25\n",
      "241/241 [==============================] - 3s 14ms/step - loss: 0.0340 - accuracy: 0.9873 - val_loss: 0.0634 - val_accuracy: 0.9773\n",
      "Epoch 14/25\n",
      "241/241 [==============================] - 3s 14ms/step - loss: 0.0318 - accuracy: 0.9901 - val_loss: 0.0684 - val_accuracy: 0.9827\n",
      "Epoch 15/25\n",
      "241/241 [==============================] - 3s 14ms/step - loss: 0.0209 - accuracy: 0.9925 - val_loss: 0.0902 - val_accuracy: 0.9800\n",
      "Epoch 16/25\n",
      "241/241 [==============================] - 3s 14ms/step - loss: 0.0153 - accuracy: 0.9953 - val_loss: 0.0971 - val_accuracy: 0.9745\n",
      "Epoch 17/25\n",
      "241/241 [==============================] - 3s 14ms/step - loss: 0.0200 - accuracy: 0.9935 - val_loss: 0.0729 - val_accuracy: 0.9827\n",
      "Epoch 18/25\n",
      "241/241 [==============================] - 3s 14ms/step - loss: 0.0164 - accuracy: 0.9940 - val_loss: 0.0909 - val_accuracy: 0.9791\n",
      "Epoch 19/25\n",
      "241/241 [==============================] - 3s 14ms/step - loss: 0.0122 - accuracy: 0.9961 - val_loss: 0.0968 - val_accuracy: 0.9764\n",
      "Epoch 20/25\n",
      "241/241 [==============================] - 3s 14ms/step - loss: 0.0137 - accuracy: 0.9956 - val_loss: 0.0921 - val_accuracy: 0.9791\n",
      "Epoch 21/25\n",
      "241/241 [==============================] - 3s 14ms/step - loss: 0.0153 - accuracy: 0.9953 - val_loss: 0.0822 - val_accuracy: 0.9827\n",
      "Epoch 22/25\n",
      "241/241 [==============================] - 3s 14ms/step - loss: 0.0168 - accuracy: 0.9940 - val_loss: 0.1197 - val_accuracy: 0.9782\n",
      "Epoch 23/25\n",
      "241/241 [==============================] - 3s 14ms/step - loss: 0.0216 - accuracy: 0.9927 - val_loss: 0.1038 - val_accuracy: 0.9764\n",
      "Epoch 24/25\n",
      "241/241 [==============================] - 3s 14ms/step - loss: 0.0058 - accuracy: 0.9977 - val_loss: 0.1169 - val_accuracy: 0.9818\n",
      "Epoch 25/25\n",
      "241/241 [==============================] - 3s 14ms/step - loss: 0.0172 - accuracy: 0.9948 - val_loss: 0.0868 - val_accuracy: 0.9745\n"
     ]
    }
   ],
   "source": [
    "history = model.fit(train,\n",
    "                    validation_data=val, \n",
    "                    epochs = 25\n",
    "                   )"
   ]
  },
  {
   "cell_type": "code",
   "execution_count": 13,
   "id": "187b5f25",
   "metadata": {},
   "outputs": [
    {
     "data": {
      "image/png": "[encoded data removed]",
      "text/plain": [
       "<Figure size 1332x540 with 2 Axes>"
      ]
     },
     "metadata": {
      "needs_background": "light"
     },
     "output_type": "display_data"
    }
   ],
   "source": [
    "plot(history)"
   ]
  },
  {
   "cell_type": "code",
   "execution_count": 14,
   "id": "0012f303",
   "metadata": {},
   "outputs": [],
   "source": [
    "model.save('model_dataset1_v2.h5')"
   ]
  },
  {
   "cell_type": "code",
   "execution_count": 11,
   "id": "427e9418",
   "metadata": {},
   "outputs": [],
   "source": [
    "def evaluate_test(test_path):\n",
    "    class_1 = [0,0,0]\n",
    "    class_2 = [0,0,0]\n",
    "    class_3 = [0,0,0]\n",
    "\n",
    "    for i in list(glob.glob(test_path+'/fully_covered/*')):\n",
    "        image = keras.preprocessing.image.load_img(i, target_size=(64, 64), color_mode = \"grayscale\")\n",
    "        input_arr = keras.preprocessing.image.img_to_array(image) /255.0\n",
    "        input_arr = np.array([input_arr])\n",
    "        result = model.predict(input_arr)\n",
    "        result = np.argmax(result)\n",
    "        class_1[result] = class_1[result] + 1\n",
    "        if result != 0:\n",
    "            print(i)\n",
    "    print('Koniec dla klasy 1')\n",
    "        \n",
    "    for i in list(glob.glob(test_path+'/not_covered/*')):\n",
    "        image = keras.preprocessing.image.load_img(i, target_size=(64, 64), color_mode = \"grayscale\")\n",
    "        input_arr = keras.preprocessing.image.img_to_array(image) /255.0\n",
    "        input_arr = np.array([input_arr])\n",
    "        result = model.predict(input_arr)\n",
    "        result = np.argmax(result)\n",
    "        class_2[result] = class_2[result] + 1\n",
    "        if result != 1:\n",
    "            print(i)\n",
    "    print('Koniec dla klasy 2')\n",
    "        \n",
    "    for i in list(glob.glob(test_path+'/partially_covered/*')):\n",
    "        image = keras.preprocessing.image.load_img(i, target_size=(64, 64), color_mode = \"grayscale\")\n",
    "        input_arr = keras.preprocessing.image.img_to_array(image) /255.0\n",
    "        input_arr = np.array([input_arr])\n",
    "        result = model.predict(input_arr)\n",
    "        result = np.argmax(result)\n",
    "        class_3[result] = class_3[result] + 1\n",
    "        if result != 2:\n",
    "            print(i)\n",
    "    \n",
    "    return [class_1, class_2, class_3]"
   ]
  },
  {
   "cell_type": "code",
   "execution_count": 12,
   "id": "d32c3eb5",
   "metadata": {},
   "outputs": [
    {
     "name": "stdout",
     "output_type": "stream",
     "text": [
      "C:/Users/wojte/Desktop/IV/Projekt_indywidualny/Face_Mask_1_dataset_split/test/fully_covered\\brrlhkdd.jpg\n",
      "C:/Users/wojte/Desktop/IV/Projekt_indywidualny/Face_Mask_1_dataset_split/test/fully_covered\\bvtcuvyf.jpg\n",
      "C:/Users/wojte/Desktop/IV/Projekt_indywidualny/Face_Mask_1_dataset_split/test/fully_covered\\cgzwwfjo.jpg\n",
      "C:/Users/wojte/Desktop/IV/Projekt_indywidualny/Face_Mask_1_dataset_split/test/fully_covered\\ckwqzfin.jpg\n",
      "C:/Users/wojte/Desktop/IV/Projekt_indywidualny/Face_Mask_1_dataset_split/test/fully_covered\\hclfxrhc.jpg\n",
      "C:/Users/wojte/Desktop/IV/Projekt_indywidualny/Face_Mask_1_dataset_split/test/fully_covered\\mpefdjsj.jpg\n",
      "C:/Users/wojte/Desktop/IV/Projekt_indywidualny/Face_Mask_1_dataset_split/test/fully_covered\\mpjjrjvw.jpg\n",
      "C:/Users/wojte/Desktop/IV/Projekt_indywidualny/Face_Mask_1_dataset_split/test/fully_covered\\ourembbh.jpg\n",
      "C:/Users/wojte/Desktop/IV/Projekt_indywidualny/Face_Mask_1_dataset_split/test/fully_covered\\qvkhrsqr.jpg\n",
      "C:/Users/wojte/Desktop/IV/Projekt_indywidualny/Face_Mask_1_dataset_split/test/fully_covered\\usjgkyww.jpg\n",
      "C:/Users/wojte/Desktop/IV/Projekt_indywidualny/Face_Mask_1_dataset_split/test/fully_covered\\wkvecuwn.jpg\n",
      "C:/Users/wojte/Desktop/IV/Projekt_indywidualny/Face_Mask_1_dataset_split/test/fully_covered\\yxgcrzsk.jpg\n",
      "Koniec dla klasy 1\n",
      "C:/Users/wojte/Desktop/IV/Projekt_indywidualny/Face_Mask_1_dataset_split/test/not_covered\\bdjdmbrz.jpg\n",
      "C:/Users/wojte/Desktop/IV/Projekt_indywidualny/Face_Mask_1_dataset_split/test/not_covered\\pdxdfroq.jpg\n",
      "C:/Users/wojte/Desktop/IV/Projekt_indywidualny/Face_Mask_1_dataset_split/test/not_covered\\qmmjgawp.jpg\n",
      "C:/Users/wojte/Desktop/IV/Projekt_indywidualny/Face_Mask_1_dataset_split/test/not_covered\\yoexrsnq.jpg\n",
      "Koniec dla klasy 2\n",
      "C:/Users/wojte/Desktop/IV/Projekt_indywidualny/Face_Mask_1_dataset_split/test/partially_covered\\jsjzpice.jpg\n",
      "C:/Users/wojte/Desktop/IV/Projekt_indywidualny/Face_Mask_1_dataset_split/test/partially_covered\\nhppbftu.jpg\n",
      "C:/Users/wojte/Desktop/IV/Projekt_indywidualny/Face_Mask_1_dataset_split/test/partially_covered\\rlzilxce.jpg\n",
      "C:/Users/wojte/Desktop/IV/Projekt_indywidualny/Face_Mask_1_dataset_split/test/partially_covered\\sfbtxzbh.jpg\n",
      "C:/Users/wojte/Desktop/IV/Projekt_indywidualny/Face_Mask_1_dataset_split/test/partially_covered\\xmjuhhzu.jpg\n",
      "C:/Users/wojte/Desktop/IV/Projekt_indywidualny/Face_Mask_1_dataset_split/test/partially_covered\\ycarosxg.jpg\n"
     ]
    },
    {
     "data": {
      "text/plain": [
       "[[134, 9, 3], [4, 364, 0], [5, 1, 34]]"
      ]
     },
     "execution_count": 12,
     "metadata": {},
     "output_type": "execute_result"
    }
   ],
   "source": [
    "path_test = 'C:/Users/wojte/Desktop/IV/Projekt_indywidualny/Face_Mask_1_dataset_split/test'\n",
    "output = evaluate_test(path_test)\n",
    "output"
   ]
  },
  {
   "cell_type": "code",
   "execution_count": 13,
   "id": "b8ffdb8f",
   "metadata": {},
   "outputs": [
    {
     "data": {
      "text/plain": [
       "<AxesSubplot:>"
      ]
     },
     "execution_count": 13,
     "metadata": {},
     "output_type": "execute_result"
    },
    {
     "data": {
      "image/png": "[encoded data removed]",
      "text/plain": [
       "<Figure size 432x288 with 2 Axes>"
      ]
     },
     "metadata": {
      "needs_background": "light"
     },
     "output_type": "display_data"
    }
   ],
   "source": [
    "x_axis = ['fully c', 'not c', 'partially c']\n",
    "sns.heatmap(output, cmap='YlGn', annot=True, fmt='d', xticklabels=x_axis, yticklabels=x_axis)"
   ]
  },
  {
   "cell_type": "code",
   "execution_count": null,
   "id": "19e79cec",
   "metadata": {},
   "outputs": [],
   "source": []
  }
 ],
 "metadata": {
  "kernelspec": {
   "display_name": "Python 3 (ipykernel)",
   "language": "python",
   "name": "python3"
  },
  "language_info": {
   "codemirror_mode": {
    "name": "ipython",
    "version": 3
   },
   "file_extension": ".py",
   "mimetype": "text/x-python",
   "name": "python",
   "nbconvert_exporter": "python",
   "pygments_lexer": "ipython3",
   "version": "3.8.8"
  }
 },
 "nbformat": 4,
 "nbformat_minor": 5
}
